{
 "cells": [
  {
   "cell_type": "markdown",
   "id": "0ea0a2ef-18c4-4e8e-abf1-6853af0978c8",
   "metadata": {},
   "source": [
    "# Creation eta series\n",
    "This notebook creates an file with $\\eta(x,y)$ for different times and saves it as time series of $\\eta$ which dimensions are $(N_t,N_x,N_y)$ where Nt is the number of iterations in time, and $N_x =N_y=512$."
   ]
  },
  {
   "cell_type": "markdown",
   "id": "544a2256-f7f2-41f7-a044-ec908a0343c0",
   "metadata": {},
   "source": [
    "## Import packages"
   ]
  },
  {
   "cell_type": "code",
   "execution_count": 1,
   "id": "c3b5bb4a-f77d-46b0-9d14-6ce1c0656159",
   "metadata": {},
   "outputs": [],
   "source": [
    "# Librerías estándar y de terceros\n",
    "import os\n",
    "import sys\n",
    "import gc\n",
    "import math as m\n",
    "import scipy\n",
    "import numpy as np\n",
    "import pandas as pd\n",
    "from scipy.signal import butter, filtfilt, hilbert\n",
    "from sklearn.preprocessing import PolynomialFeatures\n",
    "from sklearn.linear_model import LinearRegression\n",
    "from matplotlib import pyplot as plt\n",
    "import matplotlib.pyplot as plt\n",
    "from matplotlib.ticker import MaxNLocator\n",
    "from mpl_toolkits.axes_grid1 import make_axes_locatable\n",
    "\n",
    "# Configuración de rutas para importaciones personalizadas\n",
    "sys.path.append(\"/projects/DEIKE/cmartinb/jupyter_notebook/project_specific/turbulence\")\n",
    "sys.path.append(\"/projects/DEIKE/cmartinb/functions\")\n",
    "\n",
    "\n",
    "\n",
    "#Functions personalice\n",
    "from prepare import load_object, save_object, field\n",
    "from defs import Case, Interface2D\n",
    "from phase import extract_phase\n",
    "from funciones import *  \n",
    "\n",
    "os.chdir(\"/projects/DEIKE/cmartinb/\")"
   ]
  },
  {
   "cell_type": "markdown",
   "id": "8cb1d24a-7d0e-4f25-bb0a-39ae0079d7b7",
   "metadata": {},
   "source": [
    "## Define case"
   ]
  },
  {
   "cell_type": "code",
   "execution_count": 10,
   "id": "9965e55e-a691-4585-9c1b-223ec6537d1f",
   "metadata": {},
   "outputs": [
    {
     "name": "stdout",
     "output_type": "stream",
     "text": [
      "ak is 0.16 c is 0.5 w_p$ is 2.0 $\n",
      "u_w$ is 3.141592653589793e-05 g is 0.9950298260190349 N 512\n"
     ]
    }
   ],
   "source": [
    "kpHs = '0p16' # 0p16 \n",
    "uoc = '0p50' # 0p50 0p75\n",
    "reW = '2.5e4' #1.0e5\n",
    "reA = 720\n",
    "maxLevel = 11 #10\n",
    "Bo=200 # 25, 1000\n",
    "\n",
    "rho1=1\n",
    "rho2=1*10**(-3)\n",
    "\n",
    "if reW == '1.0e5':\n",
    "    Re_water = 1 * 10**5\n",
    "else:\n",
    "    Re_water = 2.5 * 10**4\n",
    "'''\n",
    "if maxLevel == 11:\n",
    "    N = 1024\n",
    "else:\n",
    "'''\n",
    "N = 512 \n",
    "\n",
    "#Common parameters \n",
    "kp = 4\n",
    "u = 0.25\n",
    "lambdap = 2*m.pi/kp\n",
    "\n",
    "L0 = 2*np.pi;\n",
    "\n",
    "ak,  c, omegap, nu_water, g, uoc_val, sigma, Tp= calculate_parameters(kpHs, uoc, u, kp, Bo, rho1, rho2)\n",
    "print('ak is', ak, 'c is' ,c, 'w_p$ is', omegap, '$\\nu_w$ is' , nu_water, 'g is' ,g, 'N', N)\n"
   ]
  },
  {
   "cell_type": "markdown",
   "id": "7e6126f4-38c8-4628-9a3d-3ff96b896b0c",
   "metadata": {},
   "source": [
    "### Select path depeding on the case"
   ]
  },
  {
   "cell_type": "code",
   "execution_count": 21,
   "id": "d1c999d6-e782-4375-b106-873b83a08d67",
   "metadata": {},
   "outputs": [
    {
     "name": "stdout",
     "output_type": "stream",
     "text": [
      "[1519934. 1524552. 1529164. 1533794. 1538037. 1542511. 1546806. 1551396.\n",
      " 1555948. 1560192. 1564718. 1569068. 1573418. 1577690. 1582570. 1587626.\n",
      " 1591378. 1595384. 1599045. 1603089. 1608029. 1612657. 1617092. 1621333.\n",
      " 1625637. 1630520. 1635930. 1641294. 1646645. 1651700.]\n",
      "30\n"
     ]
    }
   ],
   "source": [
    "#work_dir = f'/projects/DEIKE/nscapin/broadband_reorder/re{reA}_bo0{Bo}_P{kpHs}_uoc{uoc}_reW{reW}_L{maxLevel}/'\n",
    "work_dir = f'/projects/DEIKE/nscapin/broadband_reorder/reproc_re{reA}_bo0{Bo}_P{kpHs}_uoc{uoc}_reW{reW}_L{maxLevel}/' #reprocess \n",
    "#work_dir = f'/projects/DEIKE/cmartinb/cases_multiphase_broadbanded/re{reA}_bo{Bo}_kpHs{kpHs}_uoc{uoc}_reW{reW}_L{maxLevel}/'\n",
    "data = np.loadtxt(work_dir+'eta/global_int.out')\n",
    "istep_c =data[:, 2]\n",
    "time = data[:,0]\n",
    "print(istep_c)\n",
    "print(time.shape[0])"
   ]
  },
  {
   "cell_type": "code",
   "execution_count": 22,
   "id": "2639eaa2-2bfc-4977-a5d3-98740307f904",
   "metadata": {},
   "outputs": [],
   "source": [
    "time_normalized = (time - time[0]) * omegap / (2 * np.pi)"
   ]
  },
  {
   "cell_type": "markdown",
   "id": "dfbd211d-4dad-44cc-a70d-7c0f2f7615c1",
   "metadata": {},
   "source": [
    "## Create the time series of $\\eta(x,y)$"
   ]
  },
  {
   "cell_type": "code",
   "execution_count": 23,
   "id": "345ffea3-2bf2-4a62-ae9d-8063aae55e43",
   "metadata": {
    "tags": []
   },
   "outputs": [
    {
     "name": "stdout",
     "output_type": "stream",
     "text": [
      "iteration 0 Second pass of remove\n",
      "iteration 1 Second pass of remove\n",
      "iteration 2 Second pass of remove\n",
      "iteration 3 Second pass of remove\n",
      "iteration 4 Second pass of remove\n",
      "iteration 5 Second pass of remove\n",
      "iteration 6 Second pass of remove\n",
      "iteration 7 Second pass of remove\n",
      "iteration 8 Second pass of remove\n",
      "iteration 9 Second pass of remove\n",
      "iteration 10 Second pass of remove\n",
      "iteration 11 Second pass of remove\n",
      "iteration 12 Second pass of remove\n",
      "iteration 13 Second pass of remove\n",
      "iteration 14 Second pass of remove\n",
      "iteration 15 Second pass of remove\n",
      "iteration 16 Second pass of remove\n",
      "iteration 17 Second pass of remove\n",
      "iteration 18 Second pass of remove\n",
      "iteration 19 Second pass of remove\n",
      "iteration 20 Second pass of remove\n",
      "iteration 21 Second pass of remove\n",
      "iteration 22 Second pass of remove\n",
      "iteration 23 Second pass of remove\n",
      "iteration 24 Second pass of remove\n",
      "iteration 25 Second pass of remove\n",
      "iteration 26 Second pass of remove\n",
      "iteration 27 Second pass of remove\n",
      "iteration 28 Second pass of remove\n",
      "iteration 29 Second pass of remove\n"
     ]
    }
   ],
   "source": [
    "eta_series = np.zeros((istep_c.shape[0],N,N), dtype=np.float32)\n",
    "j=0\n",
    "\n",
    "for i in istep_c:\n",
    "    filename = work_dir + f'eta/eta_loc/eta_loc_t{int(i):09}.bin'\n",
    "    etalo = np.fromfile(filename)\n",
    "    #print(etalo)\n",
    "    size  = etalo.shape;\n",
    "    tot_row = 18\n",
    "    tot_row_i = int(size[0]/tot_row);\n",
    "    etalo = etalo.reshape([tot_row_i, tot_row]);\n",
    "    \n",
    "    eta_m0  = 1.0; cirp_th = 0.20;\n",
    "    new_row = 0;\n",
    "    for i in range(tot_row_i):\n",
    "        if ( abs(etalo[i][12]-eta_m0) < cirp_th ):\n",
    "            new_row += 1;\n",
    "    #\n",
    "    print('iteration', j ,\"Second pass of remove\")\n",
    "    etal = np.zeros([new_row, 18]);\n",
    "    for i in range(new_row):\n",
    "        if ( abs(etalo[i][12]-eta_m0) < cirp_th ):\n",
    "            etal[i][:] = etalo[i][:];\n",
    "    xarray = np.linspace(-L0/2., L0/2.,N,endpoint=False)+L0/2/N/2 # Centered grid for interpolation\n",
    "    yarray = np.linspace(-L0/2., L0/2.,N,endpoint=False)+L0/2/N/2 # Centered grid for interpolation\n",
    "    xtile, ytile = np.meshgrid(xarray,yarray)\n",
    "    eta = griddata((etal[:,0].ravel(), etal[:,1].ravel()), etal[:,12].ravel(), (xtile, ytile), method='nearest')\n",
    "    eta_series[j]= eta\n",
    "    j+=1"
   ]
  },
  {
   "cell_type": "markdown",
   "id": "9a978403-1fb1-45b5-8db1-9aefdb62c44e",
   "metadata": {},
   "source": [
    "## Save the file (folder eta of projects)"
   ]
  },
  {
   "cell_type": "code",
   "execution_count": 24,
   "id": "2275d457-09b5-49b2-80c6-502b1d2ee45c",
   "metadata": {},
   "outputs": [],
   "source": [
    "np.save(f'/projects/DEIKE/cmartinb/eta/eta_series_reproc_re{reA}_bo0{Bo}_P{kpHs}_uoc{uoc}_reW{reW}_L{maxLevel}.npy', eta_series)"
   ]
  }
 ],
 "metadata": {
  "kernelspec": {
   "display_name": "Python 3 (ipykernel)",
   "language": "python",
   "name": "python3"
  },
  "language_info": {
   "codemirror_mode": {
    "name": "ipython",
    "version": 3
   },
   "file_extension": ".py",
   "mimetype": "text/x-python",
   "name": "python",
   "nbconvert_exporter": "python",
   "pygments_lexer": "ipython3",
   "version": "3.12.4"
  }
 },
 "nbformat": 4,
 "nbformat_minor": 5
}
