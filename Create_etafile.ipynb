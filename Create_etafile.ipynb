{
 "cells": [
  {
   "cell_type": "code",
   "execution_count": 1,
   "id": "c3b5bb4a-f77d-46b0-9d14-6ce1c0656159",
   "metadata": {},
   "outputs": [],
   "source": [
    "# Librerías estándar y de terceros\n",
    "import os\n",
    "import sys\n",
    "import gc\n",
    "import math as m\n",
    "import numpy as np\n",
    "import scipy\n",
    "import pandas as pd\n",
    "from scipy import *\n",
    "from scipy.signal import butter, filtfilt, hilbert\n",
    "from sklearn.preprocessing import PolynomialFeatures\n",
    "from sklearn.linear_model import LinearRegression\n",
    "from matplotlib import pyplot as plt\n",
    "\n",
    "# Configuración de rutas para importaciones personalizadas\n",
    "sys.path.append('/projects/DEIKE/cmartinb/jupyter_notebook/project_specific/turbulence')\n",
    "sys.path.append('/projects/DEIKE/cmartinb/functions')\n",
    "import numpy as np\n",
    "import matplotlib.pyplot as plt\n",
    "from matplotlib.ticker import MaxNLocator\n",
    "from mpl_toolkits.axes_grid1 import make_axes_locatable\n",
    "# Funciones y clases personalizadas\n",
    "from prepare import load_object, save_object, field\n",
    "from defs import Case, Interface2D\n",
    "from phase import extract_phase\n",
    "from funciones import *  # Asegúrate de que la importación con * sea necesaria, a veces es mejor importar solo las funciones necesarias\n",
    "\n",
    "os.chdir('/projects/DEIKE/cmartinb/')"
   ]
  },
  {
   "cell_type": "code",
   "execution_count": 2,
   "id": "9965e55e-a691-4585-9c1b-223ec6537d1f",
   "metadata": {},
   "outputs": [
    {
     "name": "stdout",
     "output_type": "stream",
     "text": [
      "ak is 0.04 c is 1.0 w_p$ is 2.0 $\n",
      "u_w$ is 6.283185307179586e-05 g is 1 N 512\n"
     ]
    }
   ],
   "source": [
    "# DEFINE CASE SO WE CAN AUTHOMATIZE IT \n",
    "kpHs = '0p04' # 0p16 \n",
    "uoc = '0p50' # 0p50 0p75\n",
    "reW = '2.5e4' #1.0e5\n",
    "reA = 720\n",
    "maxLevel = 10\n",
    "Bo=200\n",
    "\n",
    "if reW == '1.0e5':\n",
    "    Re_water = 1 * 10**5\n",
    "else:\n",
    "    Re_water = 2.5 * 10**4\n",
    "\n",
    "if uoc == '0p75':\n",
    "    N = 1024\n",
    "else:\n",
    "    N = 512 \n",
    "\n",
    "#Common parameters \n",
    "kp = 4\n",
    "u = 0.5\n",
    "lambdap = 2*m.pi/kp\n",
    "\n",
    "L0 = 2*np.pi;\n",
    "\n",
    "\n",
    "ak, c, omegap, nu_water, g , uoc_val= calculate_parameters(kpHs, uoc , u ,kp)\n",
    "print('ak is', ak, 'c is' ,c, 'w_p$ is', omegap, '$\\nu_w$ is' , nu_water, 'g is' ,g, 'N', N)"
   ]
  },
  {
   "cell_type": "code",
   "execution_count": 3,
   "id": "d1c999d6-e782-4375-b106-873b83a08d67",
   "metadata": {},
   "outputs": [
    {
     "name": "stdout",
     "output_type": "stream",
     "text": [
      "(77,)\n"
     ]
    }
   ],
   "source": [
    "#work_dir = f'/projects/DEIKE/nscapin/broadband_reorder/re{reA}_bo0{Bo}_P{kpHs}_uoc{uoc}_reW{reW}_L{maxLevel}/'\n",
    "#for Bo=1000 I run the simulation\n",
    "work_dir = f'/projects/DEIKE/cmartinb/cases_multiphase_broadbanded/re{reA}_bo{Bo}_kpHs{kpHs}_uoc{uoc}_reW{reW}_L{maxLevel}/'\n",
    "data = np.loadtxt(work_dir+'eta/global_int.out')\n",
    "#re720_bo0200_P0p16_uoc0p50_reW1.0e5_L10\n",
    "istep_c =data[:, 1]\n",
    "time = data[:,0] \n",
    "print(time.shape)"
   ]
  },
  {
   "cell_type": "code",
   "execution_count": 4,
   "id": "345ffea3-2bf2-4a62-ae9d-8063aae55e43",
   "metadata": {
    "tags": []
   },
   "outputs": [
    {
     "name": "stdout",
     "output_type": "stream",
     "text": [
      "iteration 0 Second pass of remove\n",
      "iteration 1 Second pass of remove\n",
      "iteration 2 Second pass of remove\n",
      "iteration 3 Second pass of remove\n",
      "iteration 4 Second pass of remove\n",
      "iteration 5 Second pass of remove\n",
      "iteration 6 Second pass of remove\n",
      "iteration 7 Second pass of remove\n",
      "iteration 8 Second pass of remove\n",
      "iteration 9 Second pass of remove\n",
      "iteration 10 Second pass of remove\n",
      "iteration 11 Second pass of remove\n",
      "iteration 12 Second pass of remove\n",
      "iteration 13 Second pass of remove\n",
      "iteration 14 Second pass of remove\n",
      "iteration 15 Second pass of remove\n",
      "iteration 16 Second pass of remove\n",
      "iteration 17 Second pass of remove\n",
      "iteration 18 Second pass of remove\n",
      "iteration 19 Second pass of remove\n",
      "iteration 20 Second pass of remove\n",
      "iteration 21 Second pass of remove\n",
      "iteration 22 Second pass of remove\n",
      "iteration 23 Second pass of remove\n",
      "iteration 24 Second pass of remove\n",
      "iteration 25 Second pass of remove\n",
      "iteration 26 Second pass of remove\n",
      "iteration 27 Second pass of remove\n",
      "iteration 28 Second pass of remove\n",
      "iteration 29 Second pass of remove\n",
      "iteration 30 Second pass of remove\n",
      "iteration 31 Second pass of remove\n",
      "iteration 32 Second pass of remove\n",
      "iteration 33 Second pass of remove\n",
      "iteration 34 Second pass of remove\n",
      "iteration 35 Second pass of remove\n",
      "iteration 36 Second pass of remove\n",
      "iteration 37 Second pass of remove\n",
      "iteration 38 Second pass of remove\n",
      "iteration 39 Second pass of remove\n",
      "iteration 40 Second pass of remove\n",
      "iteration 41 Second pass of remove\n",
      "iteration 42 Second pass of remove\n",
      "iteration 43 Second pass of remove\n",
      "iteration 44 Second pass of remove\n",
      "iteration 45 Second pass of remove\n",
      "iteration 46 Second pass of remove\n",
      "iteration 47 Second pass of remove\n",
      "iteration 48 Second pass of remove\n",
      "iteration 49 Second pass of remove\n",
      "iteration 50 Second pass of remove\n",
      "iteration 51 Second pass of remove\n",
      "iteration 52 Second pass of remove\n",
      "iteration 53 Second pass of remove\n",
      "iteration 54 Second pass of remove\n",
      "iteration 55 Second pass of remove\n",
      "iteration 56 Second pass of remove\n",
      "iteration 57 Second pass of remove\n",
      "iteration 58 Second pass of remove\n",
      "iteration 59 Second pass of remove\n",
      "iteration 60 Second pass of remove\n",
      "iteration 61 Second pass of remove\n",
      "iteration 62 Second pass of remove\n",
      "iteration 63 Second pass of remove\n",
      "iteration 64 Second pass of remove\n",
      "iteration 65 Second pass of remove\n",
      "iteration 66 Second pass of remove\n",
      "iteration 67 Second pass of remove\n",
      "iteration 68 Second pass of remove\n",
      "iteration 69 Second pass of remove\n",
      "iteration 70 Second pass of remove\n",
      "iteration 71 Second pass of remove\n",
      "iteration 72 Second pass of remove\n",
      "iteration 73 Second pass of remove\n",
      "iteration 74 Second pass of remove\n",
      "iteration 75 Second pass of remove\n",
      "iteration 76 Second pass of remove\n"
     ]
    }
   ],
   "source": [
    "eta_series = np.zeros((istep_c.shape[0],N,N), dtype=np.float32)\n",
    "j=0\n",
    "\n",
    "for i in istep_c:\n",
    "    \n",
    "    filename = work_dir + f'eta/eta_loc/eta_loc_t{int(i):09}.bin'\n",
    "    etalo = np.fromfile(filename)\n",
    "    size  = etalo.shape;\n",
    "    tot_row = 18\n",
    "    tot_row_i = int(size[0]/tot_row);\n",
    "    etalo = etalo.reshape([tot_row_i, tot_row]);\n",
    "    \n",
    "    eta_m0  = 1.0; cirp_th = 0.20;\n",
    "    new_row = 0;\n",
    "    for i in range(tot_row_i):\n",
    "        if ( abs(etalo[i][12]-eta_m0) < cirp_th ):\n",
    "            new_row += 1;\n",
    "    #\n",
    "    print('iteration', j ,\"Second pass of remove\")\n",
    "    etal = np.zeros([new_row, 18]);\n",
    "    for i in range(new_row):\n",
    "        if ( abs(etalo[i][12]-eta_m0) < cirp_th ):\n",
    "            etal[i][:] = etalo[i][:];\n",
    "    xarray = np.linspace(-L0/2., L0/2.,N,endpoint=False)+L0/2/N/2 # Centered grid for interpolation\n",
    "    yarray = np.linspace(-L0/2., L0/2.,N,endpoint=False)+L0/2/N/2 # Centered grid for interpolation\n",
    "    xtile, ytile = np.meshgrid(xarray,yarray)\n",
    "    eta = griddata((etal[:,0].ravel(), etal[:,1].ravel()), etal[:,12].ravel(), (xtile, ytile), method='nearest')\n",
    "    eta_series[j]= eta\n",
    "    j+=1\n",
    "\n"
   ]
  },
  {
   "cell_type": "code",
   "execution_count": 5,
   "id": "2275d457-09b5-49b2-80c6-502b1d2ee45c",
   "metadata": {},
   "outputs": [],
   "source": [
    "np.save(f'/projects/DEIKE/cmartinb/eta/eta_series_re{reA}_bo0{Bo}_P{kpHs}_uoc{uoc}_reW{reW}_L{maxLevel}.npy', eta_series)"
   ]
  },
  {
   "cell_type": "code",
   "execution_count": null,
   "id": "b864ae81-42b0-4b28-bfa0-1f4b10956660",
   "metadata": {},
   "outputs": [],
   "source": []
  }
 ],
 "metadata": {
  "kernelspec": {
   "display_name": "Python 3 (ipykernel)",
   "language": "python",
   "name": "python3"
  },
  "language_info": {
   "codemirror_mode": {
    "name": "ipython",
    "version": 3
   },
   "file_extension": ".py",
   "mimetype": "text/x-python",
   "name": "python",
   "nbconvert_exporter": "python",
   "pygments_lexer": "ipython3",
   "version": "3.9.7"
  }
 },
 "nbformat": 4,
 "nbformat_minor": 5
}
